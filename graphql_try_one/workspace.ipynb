{
 "cells": [
  {
   "cell_type": "code",
   "execution_count": 2,
   "id": "d0d545fc",
   "metadata": {},
   "outputs": [],
   "source": [
    "import os, json, re\n",
    "os.environ[\"DJANGO_ALLOW_ASYNC_UNSAFE\"] = \"true\"\n",
    "import os, json, re\n",
    "from datetime import datetime\n",
    "from graph.models import Order, DeliveryModel"
   ]
  },
  {
   "cell_type": "code",
   "execution_count": 9,
   "id": "8b9bd184",
   "metadata": {},
   "outputs": [
    {
     "name": "stdout",
     "output_type": "stream",
     "text": [
      "Москва\n"
     ]
    }
   ],
   "source": [
    "order = Order.objects.all()\n",
    "print(order.first().delivery)"
   ]
  }
 ],
 "metadata": {
  "kernelspec": {
   "display_name": "Django Shell-Plus",
   "language": "python",
   "name": "django_extensions"
  },
  "language_info": {
   "codemirror_mode": {
    "name": "ipython",
    "version": 3
   },
   "file_extension": ".py",
   "mimetype": "text/x-python",
   "name": "python",
   "nbconvert_exporter": "python",
   "pygments_lexer": "ipython3",
   "version": "3.8.10"
  }
 },
 "nbformat": 4,
 "nbformat_minor": 5
}
