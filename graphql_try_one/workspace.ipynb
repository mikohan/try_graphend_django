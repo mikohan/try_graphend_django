{
 "cells": [
  {
   "cell_type": "code",
   "execution_count": 1,
   "id": "f68ce0ab",
   "metadata": {},
   "outputs": [],
   "source": [
    "import os, json, re\n",
    "os.environ[\"DJANGO_ALLOW_ASYNC_UNSAFE\"] = \"true\"\n",
    "import os, json, re\n",
    "from datetime import datetime\n",
    "from graph.models import Order, DeliveryModel"
   ]
  },
  {
   "cell_type": "code",
   "execution_count": 3,
   "id": "951e3c04",
   "metadata": {},
   "outputs": [
    {
     "name": "stdout",
     "output_type": "stream",
     "text": [
      "PROCESSING\n"
     ]
    }
   ],
   "source": [
    "order = Order.objects.get(id=12345)\n",
    "print(order.status)"
   ]
  }
 ],
 "metadata": {
  "kernelspec": {
   "display_name": "Django Shell-Plus",
   "language": "python",
   "name": "django_extensions"
  },
  "language_info": {
   "codemirror_mode": {
    "name": "ipython",
    "version": 3
   },
   "file_extension": ".py",
   "mimetype": "text/x-python",
   "name": "python",
   "nbconvert_exporter": "python",
   "pygments_lexer": "ipython3",
   "version": "3.8.10"
  }
 },
 "nbformat": 4,
 "nbformat_minor": 5
}
